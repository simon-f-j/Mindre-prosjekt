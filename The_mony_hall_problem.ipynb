{
 "cells": [
  {
   "cell_type": "markdown",
   "metadata": {},
   "source": [
    "# The monty hall problem\n",
    "\n",
    "\n",
    "![monty_hall1](https://upload.wikimedia.org/wikipedia/commons/thumb/3/3f/Monty_open_door.svg/250px-Monty_open_door.svg.png)\n",
    "\n",
    "\n",
    "\n",
    "The monty hall problem er et kjent matematisk problem som bygger på det amerikanske TV programmet \"lets make a deal\", som ledes av Monty Hall.\n",
    "\n",
    "Problemet går ut på at man er på et \"gameshow\" hvor man blir møtt av tre dører, med løfte om at det befinner seg en bil bak en av dørene, mens de to resterende dørene ikke inneholder noen premie.\n",
    "\n",
    "Spillet:\n",
    "1. Deltageren får beskjed om å velge seg en dør uten å åpne den\n",
    "2. Programlederen åpner og viser en av de tomme dørene\n",
    "3. Programlederen spør om deltageren vil beholde sin dør eller bytte til den gjenværende døren\n",
    "\n",
    "\n",
    "Løsninen på dette er da at sannsynligheten for å velge riktig dør i utgangspunktet er 1/3, mens sannsynligheten for å velge feil er 2/3. Når programlederen utelukker en dør av feilgruppen blir den gjenværende sannsynligheten konsentrert til den siste døra. Det er da dobbelt så stor sjanse for å vinne hvis man bytter dør.\n",
    "\n",
    "![test](https://res.cloudinary.com/practicaldev/image/fetch/s--VuL2LNu7--/c_limit%2Cf_auto%2Cfl_progressive%2Cq_auto%2Cw_880/https://kalebujordan.com/wp-content/uploads/2020/06/352px-Monty_closed_doors.svg.png)\n",
    "\n",
    "For å teste dette i praksis har jeg nedenfor satt opp et mindre program som spiller n antall spill og plotter resultatene for henholdsvis å beholde eller bytte dør.\n",
    "\n",
    "\n",
    "\n",
    "\n",
    "\n",
    "\n",
    "\n",
    "\n",
    "\n",
    "\n",
    "kilde: https://no.wikipedia.org/wiki/Monty_Hall-problemet\n"
   ]
  },
  {
   "cell_type": "code",
   "execution_count": 107,
   "metadata": {},
   "outputs": [
    {
     "name": "stdout",
     "output_type": "stream",
     "text": [
      "0.652\n"
     ]
    }
   ],
   "source": [
    "\n",
    "import random as rd\n",
    "import matplotlib.pyplot as plt\n",
    "\n",
    "# function for a game in which the player keeps their original door\n",
    "def  keepdoor():\n",
    "    \"\"\"One round of the monty hall problem, in which the player keeps their door,\n",
    "       returns: 0 or 1 depending on won or lost game.\"\"\"\n",
    "\n",
    "    # Create list of three doors, fill with 'empty'\n",
    "    doors=['empty','empty','empty']\n",
    "   \n",
    "    # Replace a random door with prize, and save the location of the prize as a variable\n",
    "    prize = rd.randint(1,3)\n",
    "    doors[prize-1]='prize'\n",
    "\n",
    "    # Choose a door\n",
    "    choice_p = rd.randint(1,3)-1\n",
    "\n",
    "    # create a list of doors without prizes        \n",
    "    cnt=0\n",
    "    doors_noprize=[]\n",
    "    for item in doors:\n",
    "        if item != 'prize':\n",
    "            doors_noprize.append(cnt)\n",
    "        cnt+=1\n",
    "\n",
    "    # Host opens a random door, not containing the prize\n",
    "    if choice_p in doors_noprize:\n",
    "        doors_noprize.remove(choice_p)\n",
    "    choice_h = rd.choice(doors_noprize)\n",
    "\n",
    "    # keep door:\n",
    "    if doors[choice_p] == 'prize':\n",
    "        #print('congrats!')\n",
    "        cnt=1\n",
    "        return cnt\n",
    "    else:\n",
    "        #print('you lost...')\n",
    "        cnt=0\n",
    "        return cnt\n",
    "\n",
    "\n",
    "# function for a game in which the player switches from their original door\n",
    "def switchdoor():\n",
    "    \"\"\"One round of the monty hall problem, in which the player switches door,\n",
    "       returns: 0 or 1 depending on won or lost game.\"\"\"\n",
    "    \n",
    "    doors=['empty','empty','empty']\n",
    "    # Replace a random door with prize, and save the location of the prize as a variable\n",
    "    prize = rd.randint(1,3)-1\n",
    "    #print(prize)\n",
    "    doors[prize]='prize'\n",
    "    #print(doors)\n",
    "    #print(f\"prize is behind door: {prize}\")\n",
    "    choices = [0,1,2]\n",
    "\n",
    "    # create a list of doors without prizes        \n",
    "    cnt=0\n",
    "    doors_noprize=[]\n",
    "    for item in doors:\n",
    "        if item != 'prize':\n",
    "            doors_noprize.append(cnt)\n",
    "        cnt+=1\n",
    "\n",
    "    # Player chooses a door, choice_p\n",
    "    choice_p = rd.randint(1,3)-1\n",
    "\n",
    "    # Host opens a random door, choice_h, not containing the prize\n",
    "    if choice_p in doors_noprize:\n",
    "        doors_noprize.remove(choice_p)\n",
    "    choice_h = rd.choice(doors_noprize)\n",
    "    \n",
    "    # the choices of player and host is removed from the available doors\n",
    "    choices.remove(choice_p)\n",
    "    choices.remove(choice_h)\n",
    "    \n",
    "    # the result of the remaining door is evaluated\n",
    "    if doors[choices[0]] == 'prize':\n",
    "        #print('you won')\n",
    "        return 1\n",
    "    else:\n",
    "        #print('you lost')\n",
    "        return 0\n",
    "\n",
    "    # choose the remaining door:\n",
    "    for choice in choices:\n",
    "        if choice != choice_p and choice!=choice_h:\n",
    "            final_choice = choice\n",
    "            #print(f\"player switches door to: {final_choice}\")\n",
    "\n",
    "    if doors[final_choice] == 'prize':\n",
    "        #print('congrats!')\n",
    "        cnt=1\n",
    "        return cnt\n",
    "    else:\n",
    "        #print('you lost...')\n",
    "        cnt=0\n",
    "        return cnt\n",
    "\n",
    "\n",
    "    \n",
    "def average_results(data):\n",
    "    cnt=1\n",
    "    total=0\n",
    "    average = []\n",
    "    for item in data:\n",
    "        total+=data[cnt-1]\n",
    "        try:\n",
    "            average.append(total/cnt)\n",
    "        except:\n",
    "            pass\n",
    "        cnt+=1\n",
    "    return average\n",
    "    \n",
    " \n",
    "if __name__ ==\"__main__\":\n",
    "    results_switch=[]\n",
    "    results_keep=[]\n",
    "    for n in range(2000):\n",
    "        results_switch.append(switchdoor())\n",
    "        results_keep.append(keepdoor())\n",
    "    print(sum(results_switch)/len(results_switch))\n",
    "    average_switch=average_results(results_switch)\n",
    "    average_keep=average_results(results_keep)\n"
   ]
  },
  {
   "cell_type": "code",
   "execution_count": 108,
   "metadata": {},
   "outputs": [
    {
     "data": {
      "text/plain": [
       "<matplotlib.legend.Legend at 0x24b04acef10>"
      ]
     },
     "execution_count": 108,
     "metadata": {},
     "output_type": "execute_result"
    },
    {
     "data": {
      "image/png": "[encoded data removed]",
      "text/plain": [
       "<Figure size 432x288 with 1 Axes>"
      ]
     },
     "metadata": {
      "needs_background": "light"
     },
     "output_type": "display_data"
    }
   ],
   "source": [
    "fig, ax = plt.subplots()\n",
    "ax.plot(average_switch,label=\"bytte dør\")\n",
    "ax.set(xlabel='antall forsøk',ylabel='gjennomsnitt',title='Bytte av dør')\n",
    "ax.plot(average_keep,label=\"beholde dør\")\n",
    "ax.legend(loc=\"lower right\")\n"
   ]
  },
  {
   "cell_type": "markdown",
   "metadata": {},
   "source": [
    "Figuren viser et gjennomsnitt av antall spill vunnet ut fra antall forsøk, hvert spill bruker tilfeldige verdier for valgene gjort av programlederen og spilleren."
   ]
  },
  {
   "cell_type": "code",
   "execution_count": null,
   "metadata": {},
   "outputs": [],
   "source": []
  }
 ],
 "metadata": {
  "kernelspec": {
   "display_name": "Python 3",
   "language": "python",
   "name": "python3"
  },
  "language_info": {
   "codemirror_mode": {
    "name": "ipython",
    "version": 3
   },
   "file_extension": ".py",
   "mimetype": "text/x-python",
   "name": "python",
   "nbconvert_exporter": "python",
   "pygments_lexer": "ipython3",
   "version": "3.8.3"
  }
 },
 "nbformat": 4,
 "nbformat_minor": 4
}
